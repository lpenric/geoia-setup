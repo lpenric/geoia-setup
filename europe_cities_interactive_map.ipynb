{
 "cells": [
  {
   "cell_type": "code",
   "execution_count": 16,
   "id": "1213beb5-1e65-41b4-b2a8-39373da0d335",
   "metadata": {},
   "outputs": [],
   "source": [
    "import pandas as pd\n",
    "import geopandas as gpd\n",
    "import leafmap\n",
    "\n",
    "# Liste des capitales d'Europe + Strasbourg\n",
    "capitales_europe = {\n",
    "    \"ville\": [\n",
    "        \"Reykjavik\", \"Tirana\", \"Andorre-la-Vieille\", \"Vienne\", \"Minsk\", \"Bruxelles\",\n",
    "        \"Sarajevo\", \"Sofia\", \"Zagreb\", \"Nicosie\", \"Prague\", \"Copenhague\",\n",
    "        \"Tallinn\", \"Helsinki\", \"Paris\", \"Berlin\", \"Athènes\", \"Budapest\",\n",
    "        \"Dublin\", \"Rome\", \"Riga\", \"Vaduz\", \"Vilnius\", \"Luxembourg\", \"La Valette\",\n",
    "        \"Chisinau\", \"Monaco\", \"Podgorica\", \"Amsterdam\", \"Oslo\", \"Varsovie\",\n",
    "        \"Lisbonne\", \"Bucarest\", \"Moscou\", \"Saint-Marin\", \"Belgrade\", \"Bratislava\",\n",
    "        \"Ljubljana\", \"Madrid\", \"Stockholm\", \"Berne\", \"Kiev\", \"Londres\", \"Skopje\",\n",
    "        \"Ankara\", \"Malte\", \"Strasbourg\"\n",
    "    ],\n",
    "    \"pays\": [\n",
    "        \"Islande\", \"Albanie\", \"Andorre\", \"Autriche\", \"Biélorussie\", \"Belgique\",\n",
    "        \"Bosnie-Herzégovine\", \"Bulgarie\", \"Croatie\", \"Chypre\", \"République tchèque\", \"Danemark\",\n",
    "        \"Estonie\", \"Finlande\", \"France\", \"Allemagne\", \"Grèce\", \"Hongrie\",\n",
    "        \"Irlande\", \"Italie\", \"Lettonie\", \"Liechtenstein\", \"Lituanie\", \"Luxembourg\", \"Malte\",\n",
    "        \"Moldavie\", \"Monaco\", \"Monténégro\", \"Pays-Bas\", \"Norvège\", \"Pologne\",\n",
    "        \"Portugal\", \"Roumanie\", \"Russie\", \"Saint-Marin\", \"Serbie\", \"Slovaquie\",\n",
    "        \"Slovénie\", \"Espagne\", \"Suède\", \"Suisse\", \"Ukraine\", \"Royaume-Uni\", \"Macédoine du Nord\",\n",
    "        \"Turquie\", \"Malte\", \"France\"\n",
    "    ],\n",
    "    \"lat\": [\n",
    "        64.14, 41.33, 42.51, 48.21, 53.90, 50.85,\n",
    "        43.85, 42.70, 45.81, 35.17, 50.08, 55.68,\n",
    "        59.44, 60.17, 48.85, 52.52, 37.98, 47.50,\n",
    "        53.35, 41.90, 56.95, 47.16, 54.69, 49.61, 35.90,\n",
    "        47.01, 43.73, 42.43, 52.37, 59.91, 52.23,\n",
    "        38.72, 44.43, 55.75, 43.94, 44.82, 48.15,\n",
    "        46.05, 40.42, 59.33, 46.95, 50.45, 51.51, 42.00,\n",
    "        39.93, 35.89, 48.57\n",
    "    ],\n",
    "    \"lon\": [\n",
    "        -21.95, 19.82, 1.52, 16.37, 27.57, 4.35,\n",
    "        18.37, 23.32, 15.98, 33.37, 14.42, 12.57,\n",
    "        24.75, 24.94, 2.35, 13.41, 23.73, 19.05,\n",
    "        -6.26, 12.50, 24.11, 9.52, 25.32, 6.13, 14.50,\n",
    "        28.86, 7.42, 19.26, 4.90, 10.75, 21.01,\n",
    "        -9.14, 44.43, 37.62, 12.46, 48.15, 17.11,\n",
    "        14.51, -3.70, 18.07, 7.45, 30.52, -0.13, 21.43,\n",
    "        32.86, 14.51, 7.75\n",
    "    ]\n",
    "}\n",
    "\n",
    "# Création du DataFrame\n",
    "df = pd.DataFrame(capitales_europe)\n",
    "\n",
    "# Conversion en GeoDataFrame\n",
    "gdf = gpd.GeoDataFrame(\n",
    "    df,\n",
    "    geometry=gpd.points_from_xy(df.lon, df.lat),\n",
    "    crs=\"EPSG:4326\"\n",
    ")\n",
    "\n",
    "# Ajouter une colonne pour les popups\n",
    "gdf[\"popup_text\"] = gdf[\"ville\"] + \", \" + gdf[\"pays\"]\n"
   ]
  },
  {
   "cell_type": "code",
   "execution_count": 17,
   "id": "2ec17440-c9e2-473c-a95a-71f366c466b6",
   "metadata": {},
   "outputs": [
    {
     "data": {
      "application/vnd.jupyter.widget-view+json": {
       "model_id": "8dfaeff55bff4afdbae74f0b5cbfecee",
       "version_major": 2,
       "version_minor": 0
      },
      "text/plain": [
       "Map(center=[20, 0], controls=(ZoomControl(options=['position', 'zoom_in_text', 'zoom_in_title', 'zoom_out_text…"
      ]
     },
     "execution_count": 17,
     "metadata": {},
     "output_type": "execute_result"
    }
   ],
   "source": [
    "# Initialiser la carte\n",
    "m = leafmap.Map(location=[50, 10], zoom=4)  # Centré sur l'Europe\n",
    "\n",
    "# Ajouter les points depuis le GeoDataFrame\n",
    "m.add_points_from_xy(\n",
    "    gdf,\n",
    "    x=\"lon\",\n",
    "    y=\"lat\",\n",
    "    popup=\"popup_text\",  # Utilise la colonne \"popup_text\" pour le popup\n",
    "    icon_names=[\"flag\"] * len(gdf),  # Icône de drapeau pour chaque ville\n",
    "    icon_colors=[\"red\"] * len(gdf),  # Couleur rouge pour chaque marqueur\n",
    ")\n",
    "\n",
    "# Afficher la carte\n",
    "m\n"
   ]
  }
 ],
 "metadata": {
  "kernelspec": {
   "display_name": "Python 3 (ipykernel)",
   "language": "python",
   "name": "python3"
  },
  "language_info": {
   "codemirror_mode": {
    "name": "ipython",
    "version": 3
   },
   "file_extension": ".py",
   "mimetype": "text/x-python",
   "name": "python",
   "nbconvert_exporter": "python",
   "pygments_lexer": "ipython3",
   "version": "3.11.13"
  }
 },
 "nbformat": 4,
 "nbformat_minor": 5
}
